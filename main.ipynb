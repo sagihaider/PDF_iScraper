{
  "nbformat": 4,
  "nbformat_minor": 0,
  "metadata": {
    "colab": {
      "name": "main.ipynb",
      "provenance": [],
      "authorship_tag": "ABX9TyM+BGdLoX43BMCLTHnQfcjL",
      "include_colab_link": true
    },
    "kernelspec": {
      "name": "python3",
      "display_name": "Python 3"
    },
    "language_info": {
      "name": "python"
    }
  },
  "cells": [
    {
      "cell_type": "markdown",
      "metadata": {
        "id": "view-in-github",
        "colab_type": "text"
      },
      "source": [
        "<a href=\"https://colab.research.google.com/github/sagihaider/PDF_iScraper/blob/main/main.ipynb\" target=\"_parent\"><img src=\"https://colab.research.google.com/assets/colab-badge.svg\" alt=\"Open In Colab\"/></a>"
      ]
    },
    {
      "cell_type": "code",
      "metadata": {
        "colab": {
          "base_uri": "https://localhost:8080/"
        },
        "id": "KAvKijkSmiBD",
        "outputId": "9c833b9b-7fcd-4f7a-c794-a40040701d94"
      },
      "source": [
        "!git clone https://github.com/sagihaider/PDF_iScraper.git "
      ],
      "execution_count": 1,
      "outputs": [
        {
          "output_type": "stream",
          "text": [
            "Cloning into 'PDF_iScraper'...\n",
            "remote: Enumerating objects: 18, done.\u001b[K\n",
            "remote: Counting objects: 100% (18/18), done.\u001b[K\n",
            "remote: Compressing objects: 100% (15/15), done.\u001b[K\n",
            "remote: Total 18 (delta 3), reused 0 (delta 0), pack-reused 0\u001b[K\n",
            "Unpacking objects: 100% (18/18), done.\n"
          ],
          "name": "stdout"
        }
      ]
    },
    {
      "cell_type": "code",
      "metadata": {
        "colab": {
          "base_uri": "https://localhost:8080/"
        },
        "id": "-y97SuE8mul9",
        "outputId": "5c26cf08-349b-4304-b897-f77bab72813e"
      },
      "source": [
        "!pip install -r '/content/PDF_iScraper/requirements.txt'"
      ],
      "execution_count": 1,
      "outputs": [
        {
          "output_type": "stream",
          "text": [
            "Requirement already satisfied: blis==0.7.4 in /usr/local/lib/python3.7/dist-packages (from -r /content/PDF_iScraper/requirements.txt (line 1)) (0.7.4)\n",
            "Requirement already satisfied: camelot-py==0.8.2 in /usr/local/lib/python3.7/dist-packages (from -r /content/PDF_iScraper/requirements.txt (line 2)) (0.8.2)\n",
            "Requirement already satisfied: catalogue==1.0.0 in /usr/local/lib/python3.7/dist-packages (from -r /content/PDF_iScraper/requirements.txt (line 3)) (1.0.0)\n",
            "Requirement already satisfied: certifi==2020.12.5 in /usr/local/lib/python3.7/dist-packages (from -r /content/PDF_iScraper/requirements.txt (line 4)) (2020.12.5)\n",
            "Requirement already satisfied: cffi==1.14.4 in /usr/local/lib/python3.7/dist-packages (from -r /content/PDF_iScraper/requirements.txt (line 5)) (1.14.4)\n",
            "Requirement already satisfied: chardet==3.0.4 in /usr/local/lib/python3.7/dist-packages (from -r /content/PDF_iScraper/requirements.txt (line 6)) (3.0.4)\n",
            "Requirement already satisfied: click==7.1.2 in /usr/local/lib/python3.7/dist-packages (from -r /content/PDF_iScraper/requirements.txt (line 7)) (7.1.2)\n",
            "Requirement already satisfied: cryptography==3.3.1 in /usr/local/lib/python3.7/dist-packages (from -r /content/PDF_iScraper/requirements.txt (line 8)) (3.3.1)\n",
            "Requirement already satisfied: cymem==2.0.5 in /usr/local/lib/python3.7/dist-packages (from -r /content/PDF_iScraper/requirements.txt (line 9)) (2.0.5)\n",
            "Requirement already satisfied: decorator==4.4.2 in /usr/local/lib/python3.7/dist-packages (from -r /content/PDF_iScraper/requirements.txt (line 10)) (4.4.2)\n",
            "Requirement already satisfied: distro==1.5.0 in /usr/local/lib/python3.7/dist-packages (from -r /content/PDF_iScraper/requirements.txt (line 11)) (1.5.0)\n",
            "Requirement already satisfied: en-core-web-sm@ https://github.com/explosion/spacy-models/releases/download/en_core_web_sm-2.3.1/en_core_web_sm-2.3.1.tar.gz from https://github.com/explosion/spacy-models/releases/download/en_core_web_sm-2.3.1/en_core_web_sm-2.3.1.tar.gz in /usr/local/lib/python3.7/dist-packages (from -r /content/PDF_iScraper/requirements.txt (line 12)) (2.2.5)\n",
            "Requirement already satisfied: et-xmlfile==1.0.1 in /usr/local/lib/python3.7/dist-packages (from -r /content/PDF_iScraper/requirements.txt (line 13)) (1.0.1)\n",
            "Requirement already satisfied: idna==2.10 in /usr/local/lib/python3.7/dist-packages (from -r /content/PDF_iScraper/requirements.txt (line 14)) (2.10)\n",
            "Requirement already satisfied: jdcal==1.4.1 in /usr/local/lib/python3.7/dist-packages (from -r /content/PDF_iScraper/requirements.txt (line 15)) (1.4.1)\n",
            "Requirement already satisfied: joblib==1.0.0 in /usr/local/lib/python3.7/dist-packages (from -r /content/PDF_iScraper/requirements.txt (line 16)) (1.0.0)\n",
            "Requirement already satisfied: murmurhash==1.0.5 in /usr/local/lib/python3.7/dist-packages (from -r /content/PDF_iScraper/requirements.txt (line 17)) (1.0.5)\n",
            "Requirement already satisfied: networkx==2.5 in /usr/local/lib/python3.7/dist-packages (from -r /content/PDF_iScraper/requirements.txt (line 18)) (2.5)\n",
            "Requirement already satisfied: nltk==3.5 in /usr/local/lib/python3.7/dist-packages (from -r /content/PDF_iScraper/requirements.txt (line 19)) (3.5)\n",
            "Requirement already satisfied: numpy==1.19.4 in /usr/local/lib/python3.7/dist-packages (from -r /content/PDF_iScraper/requirements.txt (line 20)) (1.19.4)\n",
            "Requirement already satisfied: opencv-python==4.4.0.46 in /usr/local/lib/python3.7/dist-packages (from -r /content/PDF_iScraper/requirements.txt (line 21)) (4.4.0.46)\n",
            "Requirement already satisfied: openpyxl==3.0.5 in /usr/local/lib/python3.7/dist-packages (from -r /content/PDF_iScraper/requirements.txt (line 22)) (3.0.5)\n",
            "Requirement already satisfied: pandas==1.1.5 in /usr/local/lib/python3.7/dist-packages (from -r /content/PDF_iScraper/requirements.txt (line 23)) (1.1.5)\n",
            "Requirement already satisfied: pdfminer.six==20201018 in /usr/local/lib/python3.7/dist-packages (from -r /content/PDF_iScraper/requirements.txt (line 24)) (20201018)\n",
            "Requirement already satisfied: Pillow==8.0.1 in /usr/local/lib/python3.7/dist-packages (from -r /content/PDF_iScraper/requirements.txt (line 25)) (8.0.1)\n",
            "Requirement already satisfied: plac==1.1.3 in /usr/local/lib/python3.7/dist-packages (from -r /content/PDF_iScraper/requirements.txt (line 26)) (1.1.3)\n",
            "Requirement already satisfied: preshed==3.0.5 in /usr/local/lib/python3.7/dist-packages (from -r /content/PDF_iScraper/requirements.txt (line 27)) (3.0.5)\n",
            "Requirement already satisfied: pycparser==2.20 in /usr/local/lib/python3.7/dist-packages (from -r /content/PDF_iScraper/requirements.txt (line 28)) (2.20)\n",
            "Requirement already satisfied: PyMuPDF==1.18.4 in /usr/local/lib/python3.7/dist-packages (from -r /content/PDF_iScraper/requirements.txt (line 29)) (1.18.4)\n",
            "Requirement already satisfied: PyPDF2==1.26.0 in /usr/local/lib/python3.7/dist-packages (from -r /content/PDF_iScraper/requirements.txt (line 30)) (1.26.0)\n",
            "Requirement already satisfied: python-dateutil==2.8.1 in /usr/local/lib/python3.7/dist-packages (from -r /content/PDF_iScraper/requirements.txt (line 31)) (2.8.1)\n",
            "Requirement already satisfied: pytz==2020.4 in /usr/local/lib/python3.7/dist-packages (from -r /content/PDF_iScraper/requirements.txt (line 32)) (2020.4)\n",
            "Requirement already satisfied: regex==2020.11.13 in /usr/local/lib/python3.7/dist-packages (from -r /content/PDF_iScraper/requirements.txt (line 33)) (2020.11.13)\n",
            "Requirement already satisfied: requests==2.25.0 in /usr/local/lib/python3.7/dist-packages (from -r /content/PDF_iScraper/requirements.txt (line 34)) (2.25.0)\n",
            "Requirement already satisfied: six==1.15.0 in /usr/local/lib/python3.7/dist-packages (from -r /content/PDF_iScraper/requirements.txt (line 35)) (1.15.0)\n",
            "Requirement already satisfied: sortedcontainers==2.3.0 in /usr/local/lib/python3.7/dist-packages (from -r /content/PDF_iScraper/requirements.txt (line 36)) (2.3.0)\n",
            "Requirement already satisfied: spacy==2.3.5 in /usr/local/lib/python3.7/dist-packages (from -r /content/PDF_iScraper/requirements.txt (line 37)) (2.3.5)\n",
            "Requirement already satisfied: srsly==1.0.5 in /usr/local/lib/python3.7/dist-packages (from -r /content/PDF_iScraper/requirements.txt (line 38)) (1.0.5)\n",
            "Requirement already satisfied: tabula-py==2.2.0 in /usr/local/lib/python3.7/dist-packages (from -r /content/PDF_iScraper/requirements.txt (line 39)) (2.2.0)\n",
            "Requirement already satisfied: text-summarizer==0.0.6 in /usr/local/lib/python3.7/dist-packages (from -r /content/PDF_iScraper/requirements.txt (line 40)) (0.0.6)\n",
            "Requirement already satisfied: thinc==7.4.5 in /usr/local/lib/python3.7/dist-packages (from -r /content/PDF_iScraper/requirements.txt (line 41)) (7.4.5)\n",
            "Requirement already satisfied: tqdm==4.54.1 in /usr/local/lib/python3.7/dist-packages (from -r /content/PDF_iScraper/requirements.txt (line 42)) (4.54.1)\n",
            "Requirement already satisfied: urllib3==1.26.2 in /usr/local/lib/python3.7/dist-packages (from -r /content/PDF_iScraper/requirements.txt (line 43)) (1.26.2)\n",
            "Requirement already satisfied: wasabi==0.8.0 in /usr/local/lib/python3.7/dist-packages (from -r /content/PDF_iScraper/requirements.txt (line 44)) (0.8.0)\n",
            "Requirement already satisfied: importlib-metadata>=0.20; python_version < \"3.8\" in /usr/local/lib/python3.7/dist-packages (from catalogue==1.0.0->-r /content/PDF_iScraper/requirements.txt (line 3)) (3.7.2)\n",
            "Requirement already satisfied: setuptools in /usr/local/lib/python3.7/dist-packages (from spacy==2.3.5->-r /content/PDF_iScraper/requirements.txt (line 37)) (54.1.2)\n",
            "Requirement already satisfied: typing-extensions>=3.6.4; python_version < \"3.8\" in /usr/local/lib/python3.7/dist-packages (from importlib-metadata>=0.20; python_version < \"3.8\"->catalogue==1.0.0->-r /content/PDF_iScraper/requirements.txt (line 3)) (3.7.4.3)\n",
            "Requirement already satisfied: zipp>=0.5 in /usr/local/lib/python3.7/dist-packages (from importlib-metadata>=0.20; python_version < \"3.8\"->catalogue==1.0.0->-r /content/PDF_iScraper/requirements.txt (line 3)) (3.4.1)\n"
          ],
          "name": "stdout"
        }
      ]
    }
  ]
}